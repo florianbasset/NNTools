{
 "cells": [
  {
   "cell_type": "code",
   "execution_count": 1,
   "metadata": {},
   "outputs": [],
   "source": [
    "%load_ext autoreload\n",
    "%autoreload 2"
   ]
  },
  {
   "cell_type": "code",
   "execution_count": 2,
   "metadata": {},
   "outputs": [],
   "source": [
    "import cv2\n",
    "import numpy as np\n",
    "from fundus_data_toolkit.datamodules import CLASSIF_PATHS\n",
    "from fundus_data_toolkit.datamodules.classification import DDRDataModule, EyePACSDataModule\n",
    "from torch.utils.data import DataLoader\n",
    "from tqdm.notebook import tqdm\n",
    "\n",
    "from nntools.dataset import nntools_wrapper\n",
    "from nntools.utils.const import NNOpt"
   ]
  },
  {
   "cell_type": "code",
   "execution_count": 3,
   "metadata": {},
   "outputs": [],
   "source": [
    "\n",
    "datamodule = DDRDataModule(CLASSIF_PATHS.DDR, img_size=(512, 512), use_cache=True, batch_size=32, num_workers=8,\n",
    "                               valid_size=0,\n",
    "                               cache_option=NNOpt.CACHE_DISK)\n",
    "datamodule.setup_all()\n",
    "# train_dataloader = datamodule.train_dataloader()\n",
    "val_dataloader = datamodule.val_dataloader()\n",
    "test_dataloader = datamodule.test_dataloader()"
   ]
  },
  {
   "cell_type": "code",
   "execution_count": 4,
   "metadata": {},
   "outputs": [
    {
     "data": {
      "application/vnd.jupyter.widget-view+json": {
       "model_id": "ce2508ec6a4040ecbb166288825970b7",
       "version_major": 2,
       "version_minor": 0
      },
      "text/plain": [
       "  0%|          | 0/118 [00:00<?, ?it/s]"
      ]
     },
     "metadata": {},
     "output_type": "display_data"
    },
    {
     "name": "stderr",
     "output_type": "stream",
     "text": [
      "Corrupt JPEG data: 36 extraneous bytes before marker 0xd9\n",
      "Corrupt JPEG data: 36 extraneous bytes before marker 0xd9\n",
      "/home/clement/miniforge-pypy3/envs/cugraph/lib/python3.10/multiprocessing/resource_tracker.py:224: UserWarning: resource_tracker: There appear to be 1 leaked shared_memory objects to clean up at shutdown\n",
      "  warnings.warn('resource_tracker: There appear to be %d '\n",
      "/home/clement/miniforge-pypy3/envs/cugraph/lib/python3.10/multiprocessing/resource_tracker.py:224: UserWarning: resource_tracker: There appear to be 1 leaked shared_memory objects to clean up at shutdown\n",
      "  warnings.warn('resource_tracker: There appear to be %d '\n",
      "/home/clement/miniforge-pypy3/envs/cugraph/lib/python3.10/multiprocessing/resource_tracker.py:237: UserWarning: resource_tracker: '/nntools__is_item_cached': [Errno 2] No such file or directory: '/nntools__is_item_cached'\n",
      "  warnings.warn('resource_tracker: %r: %s' % (name, e))\n",
      "/home/clement/miniforge-pypy3/envs/cugraph/lib/python3.10/multiprocessing/resource_tracker.py:224: UserWarning: resource_tracker: There appear to be 1 leaked shared_memory objects to clean up at shutdown\n",
      "  warnings.warn('resource_tracker: There appear to be %d '\n",
      "/home/clement/miniforge-pypy3/envs/cugraph/lib/python3.10/multiprocessing/resource_tracker.py:237: UserWarning: resource_tracker: '/nntools__is_item_cached': [Errno 2] No such file or directory: '/nntools__is_item_cached'\n",
      "  warnings.warn('resource_tracker: %r: %s' % (name, e))\n",
      "/home/clement/miniforge-pypy3/envs/cugraph/lib/python3.10/multiprocessing/resource_tracker.py:224: UserWarning: resource_tracker: There appear to be 1 leaked shared_memory objects to clean up at shutdown\n",
      "  warnings.warn('resource_tracker: There appear to be %d '\n",
      "/home/clement/miniforge-pypy3/envs/cugraph/lib/python3.10/multiprocessing/resource_tracker.py:237: UserWarning: resource_tracker: '/nntools__is_item_cached': [Errno 2] No such file or directory: '/nntools__is_item_cached'\n",
      "  warnings.warn('resource_tracker: %r: %s' % (name, e))\n",
      "/home/clement/miniforge-pypy3/envs/cugraph/lib/python3.10/multiprocessing/resource_tracker.py:224: UserWarning: resource_tracker: There appear to be 1 leaked shared_memory objects to clean up at shutdown\n",
      "  warnings.warn('resource_tracker: There appear to be %d '\n",
      "/home/clement/miniforge-pypy3/envs/cugraph/lib/python3.10/multiprocessing/resource_tracker.py:237: UserWarning: resource_tracker: '/nntools__is_item_cached': [Errno 2] No such file or directory: '/nntools__is_item_cached'\n",
      "  warnings.warn('resource_tracker: %r: %s' % (name, e))\n",
      "/home/clement/miniforge-pypy3/envs/cugraph/lib/python3.10/multiprocessing/resource_tracker.py:224: UserWarning: resource_tracker: There appear to be 1 leaked shared_memory objects to clean up at shutdown\n",
      "  warnings.warn('resource_tracker: There appear to be %d '\n",
      "/home/clement/miniforge-pypy3/envs/cugraph/lib/python3.10/multiprocessing/resource_tracker.py:237: UserWarning: resource_tracker: '/nntools__is_item_cached': [Errno 2] No such file or directory: '/nntools__is_item_cached'\n",
      "  warnings.warn('resource_tracker: %r: %s' % (name, e))\n",
      "/home/clement/miniforge-pypy3/envs/cugraph/lib/python3.10/multiprocessing/resource_tracker.py:224: UserWarning: resource_tracker: There appear to be 1 leaked shared_memory objects to clean up at shutdown\n",
      "  warnings.warn('resource_tracker: There appear to be %d '\n",
      "/home/clement/miniforge-pypy3/envs/cugraph/lib/python3.10/multiprocessing/resource_tracker.py:237: UserWarning: resource_tracker: '/nntools__is_item_cached': [Errno 2] No such file or directory: '/nntools__is_item_cached'\n",
      "  warnings.warn('resource_tracker: %r: %s' % (name, e))\n",
      "/home/clement/miniforge-pypy3/envs/cugraph/lib/python3.10/multiprocessing/resource_tracker.py:224: UserWarning: resource_tracker: There appear to be 1 leaked shared_memory objects to clean up at shutdown\n",
      "  warnings.warn('resource_tracker: There appear to be %d '\n",
      "/home/clement/miniforge-pypy3/envs/cugraph/lib/python3.10/multiprocessing/resource_tracker.py:237: UserWarning: resource_tracker: '/nntools__is_item_cached': [Errno 2] No such file or directory: '/nntools__is_item_cached'\n",
      "  warnings.warn('resource_tracker: %r: %s' % (name, e))\n"
     ]
    }
   ],
   "source": [
    "for d in tqdm(test_dataloader):\n",
    "    pass"
   ]
  },
  {
   "cell_type": "code",
   "execution_count": null,
   "metadata": {},
   "outputs": [],
   "source": []
  }
 ],
 "metadata": {
  "kernelspec": {
   "display_name": "cugraph",
   "language": "python",
   "name": "python3"
  },
  "language_info": {
   "codemirror_mode": {
    "name": "ipython",
    "version": 3
   },
   "file_extension": ".py",
   "mimetype": "text/x-python",
   "name": "python",
   "nbconvert_exporter": "python",
   "pygments_lexer": "ipython3",
   "version": "3.10.13"
  }
 },
 "nbformat": 4,
 "nbformat_minor": 2
}
